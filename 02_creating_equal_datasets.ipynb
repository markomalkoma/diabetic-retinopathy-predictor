{
 "cells": [
  {
   "cell_type": "markdown",
   "metadata": {},
   "source": [
    "# Diabetic retinopathy classification\n",
    "\n",
    "## 02 Selecting equal samples datasets for each eye/class"
   ]
  },
  {
   "cell_type": "markdown",
   "metadata": {},
   "source": [
    "## Imports"
   ]
  },
  {
   "cell_type": "code",
   "execution_count": 9,
   "metadata": {},
   "outputs": [],
   "source": [
    "import torch\n",
    "from PIL import Image, ImageOps\n",
    "import pickle\n",
    "from torchvision import models, transforms\n",
    "import torch.nn as nn\n",
    "import torch.optim as optim\n",
    "from torch.optim import lr_scheduler\n",
    "from sklearn.model_selection import train_test_split\n",
    "import numpy as np\n",
    "from torch.utils.data import Dataset, DataLoader\n",
    "import time\n",
    "import copy\n",
    "import pandas as pd\n",
    "import os\n",
    "from functions import *"
   ]
  },
  {
   "cell_type": "markdown",
   "metadata": {},
   "source": [
    "## Loading image names and respective labels"
   ]
  },
  {
   "cell_type": "code",
   "execution_count": 2,
   "metadata": {},
   "outputs": [],
   "source": [
    "outputs = pd.read_csv(\"d:/project_data/trainLabels.csv\")"
   ]
  },
  {
   "cell_type": "code",
   "execution_count": 3,
   "metadata": {},
   "outputs": [
    {
     "data": {
      "text/plain": [
       "Index(['image', 'level'], dtype='object')"
      ]
     },
     "execution_count": 3,
     "metadata": {},
     "output_type": "execute_result"
    }
   ],
   "source": [
    "outputs.columns"
   ]
  },
  {
   "cell_type": "markdown",
   "metadata": {},
   "source": [
    "## Inspecting number of samples for each class"
   ]
  },
  {
   "cell_type": "code",
   "execution_count": 4,
   "metadata": {},
   "outputs": [
    {
     "data": {
      "text/plain": [
       "0    25810\n",
       "2     5292\n",
       "1     2443\n",
       "3      873\n",
       "4      708\n",
       "Name: level, dtype: int64"
      ]
     },
     "execution_count": 4,
     "metadata": {},
     "output_type": "execute_result"
    }
   ],
   "source": [
    "outputs.level.value_counts()"
   ]
  },
  {
   "cell_type": "markdown",
   "metadata": {},
   "source": [
    "## Preparing containers for paths storage"
   ]
  },
  {
   "cell_type": "code",
   "execution_count": 8,
   "metadata": {},
   "outputs": [],
   "source": [
    "num_classes = 5\n",
    "img_paths_right = [ [] for _ in range (num_classes)]\n",
    "img_paths_left = [ [] for _ in range (num_classes)]\n",
    "\n",
    "proceed = 10\n",
    "level_status = [0 for i in range(10)]\n",
    "dir_path = 'd:\\\\project_data\\\\train_1'\n",
    "image_files=os.listdir(dir_path)"
   ]
  },
  {
   "cell_type": "markdown",
   "metadata": {},
   "source": [
    "## Selector checks duplicates"
   ]
  },
  {
   "cell_type": "code",
   "execution_count": 10,
   "metadata": {},
   "outputs": [
    {
     "data": {
      "text/plain": [
       "35124"
      ]
     },
     "execution_count": 10,
     "metadata": {},
     "output_type": "execute_result"
    }
   ],
   "source": [
    "data = selector(image_files, outputs)\n",
    "\n",
    "index = data.index\n",
    "number_of_rows = len(index)\n",
    "number_of_rows"
   ]
  },
  {
   "cell_type": "markdown",
   "metadata": {},
   "source": [
    "## Seaparting image paths for each <eye, class> based on lowest class distribution"
   ]
  },
  {
   "cell_type": "code",
   "execution_count": null,
   "metadata": {},
   "outputs": [],
   "source": [
    "row = 0\n",
    "\n",
    "maxi = 350 # number of samples per class per eye\n",
    "\n",
    "while proceed:\n",
    "    try:\n",
    "        #print(data[\"level\"].value_counts())\n",
    "        #print(len(image_files)\n",
    "        level = int(data[\"level\"][row])\n",
    "        \n",
    "        abs_path = os.path.join(dir_path, data['image'][row]) + '.jpeg'\n",
    "        if 'left' in abs_path:\n",
    "            if level_status[level] < maxi:\n",
    "                img_paths_left[level].append(abs_path)\n",
    "                level_status[level]+=1 \n",
    "            elif level_status[level] == maxi:\n",
    "                proceed-=1\n",
    "                level_status[level]+=1            \n",
    "        elif 'right' in abs_path:\n",
    "            if level_status[level+5] < maxi:\n",
    "                img_paths_right[level].append(abs_path)\n",
    "                level_status[level+5]+=1   \n",
    "            elif level_status[level+5] == maxi:\n",
    "                proceed-=1\n",
    "                level_status[level+5]+=1                        \n",
    "    except:\n",
    "        pass\n",
    "    \n",
    "    if row%100==0:\n",
    "        print(f'{row}/{maxi*num_classes*2}') \n",
    "        print(level_status)\n",
    "    row+=1\n",
    "    if row > number_of_rows:\n",
    "        proceed = 0"
   ]
  },
  {
   "cell_type": "markdown",
   "metadata": {},
   "source": [
    "## Save paths in files"
   ]
  },
  {
   "cell_type": "code",
   "execution_count": null,
   "metadata": {},
   "outputs": [],
   "source": [
    "import pickle\n",
    "\n",
    "lefts = f'nochers_5x{maxi}_left'\n",
    "rights = f'nochers_5x{maxi}_right'\n",
    "\n",
    "with open(lefts, 'wb') as f:\n",
    "    pickle.dump(img_paths_left, f)\n",
    "with open(rights, 'wb') as f:\n",
    "    pickle.dump(img_paths_right, f)"
   ]
  }
 ],
 "metadata": {
  "kernelspec": {
   "display_name": "Python 3 (ipykernel)",
   "language": "python",
   "name": "python3"
  },
  "language_info": {
   "codemirror_mode": {
    "name": "ipython",
    "version": 3
   },
   "file_extension": ".py",
   "mimetype": "text/x-python",
   "name": "python",
   "nbconvert_exporter": "python",
   "pygments_lexer": "ipython3",
   "version": "3.7.6"
  },
  "vscode": {
   "interpreter": {
    "hash": "170d0d85021ae7e9511459f6208d4eb63c60dcba1bf5397279e1704e5047769c"
   }
  }
 },
 "nbformat": 4,
 "nbformat_minor": 2
}
